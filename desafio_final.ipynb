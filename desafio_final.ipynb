{
 "cells": [
  {
   "cell_type": "code",
   "execution_count": null,
   "id": "6cd87d43",
   "metadata": {},
   "outputs": [
    {
     "name": "stdout",
     "output_type": "stream",
     "text": [
      "Iniciando o processamento dos dados...\n",
      "Dados carregados com sucesso!\n",
      "   Density  BodyFat  Age  Weight  Height  Neck  Chest  Abdomen    Hip  Thigh  \\\n",
      "0   1.0708     12.3   23  154.25   67.75  36.2   93.1     85.2   94.5   59.0   \n",
      "1   1.0853      6.1   22  173.25   72.25  38.5   93.6     83.0   98.7   58.7   \n",
      "2   1.0414     25.3   22  154.00   66.25  34.0   95.8     87.9   99.2   59.6   \n",
      "3   1.0751     10.4   26  184.75   72.25  37.4  101.8     86.4  101.2   60.1   \n",
      "4   1.0340     28.7   24  184.25   71.25  34.4   97.3    100.0  101.9   63.2   \n",
      "\n",
      "   Knee  Ankle  Biceps  Forearm  Wrist  \n",
      "0  37.3   21.9    32.0     27.4   17.1  \n",
      "1  37.3   23.4    30.5     28.9   18.2  \n",
      "2  38.9   24.0    28.8     25.2   16.6  \n",
      "3  37.3   22.8    32.4     29.4   18.2  \n",
      "4  42.2   24.0    32.2     27.7   17.7  \n"
     ]
    }
   ],
   "source": [
    "import numpy as np\n",
    "import pandas as pd\n",
    "\n",
    "arquivo = \"./bodyfat.csv\"\n",
    "\n",
    "def carregar_dados():\n",
    "    try:\n",
    "        dados = pd.read_csv(arquivo)\n",
    "        return dados\n",
    "    except FileNotFoundError:\n",
    "        print(f\"Arquivo {arquivo} não encontrado.\")\n",
    "        return None\n",
    "\n",
    "def main():\n",
    "    print(\"Iniciando aplicação.\")\n",
    "    print(\"- Iniciando o processamento dos dados...\\n\")\n",
    "    dados = carregar_dados()\n",
    "    if dados is not None:\n",
    "        print(\"- Dados carregados com sucesso!\")\n",
    "        print(dados.head())\n",
    "\n",
    "if __name__ == \"__main__\":\n",
    "    main()"
   ]
  }
 ],
 "metadata": {
  "kernelspec": {
   "display_name": "base",
   "language": "python",
   "name": "python3"
  },
  "language_info": {
   "codemirror_mode": {
    "name": "ipython",
    "version": 3
   },
   "file_extension": ".py",
   "mimetype": "text/x-python",
   "name": "python",
   "nbconvert_exporter": "python",
   "pygments_lexer": "ipython3",
   "version": "3.13.5"
  }
 },
 "nbformat": 4,
 "nbformat_minor": 5
}
